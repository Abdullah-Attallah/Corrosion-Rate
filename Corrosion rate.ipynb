{
 "cells": [
  {
   "cell_type": "markdown",
   "id": "f49f7c17",
   "metadata": {
    "papermill": {
     "duration": 0.008638,
     "end_time": "2024-09-25T08:03:54.819255",
     "exception": false,
     "start_time": "2024-09-25T08:03:54.810617",
     "status": "completed"
    },
    "tags": []
   },
   "source": [
    "## Introduction\n",
    "\n",
    "Corrosion is a critical issue in industrial applications, especially in the oil and gas sectors, where the degradation of equipment can lead to costly repairs and hazardous conditions. Predicting corrosion rates accurately allows industries to take preventive measures, improving safety and reducing maintenance costs.\n",
    "\n",
    "In this project, we analyze a dataset containing various chemical compositions and environmental factors to predict the corrosion rate. The dataset includes features such as concentrations of different chemicals (MDEA, DEA, MEA, PZ), pH levels, conductivity, and temperature. Our goal is to predict the corrosion rate using machine learning models.\n",
    "\n"
   ]
  },
  {
   "cell_type": "markdown",
   "id": "04a38c00",
   "metadata": {
    "papermill": {
     "duration": 0.007355,
     "end_time": "2024-09-25T08:03:54.834930",
     "exception": false,
     "start_time": "2024-09-25T08:03:54.827575",
     "status": "completed"
    },
    "tags": []
   },
   "source": [
    "## Import Libraries"
   ]
  },
  {
   "cell_type": "code",
   "execution_count": 1,
   "id": "d3916e63",
   "metadata": {
    "_cell_guid": "b1076dfc-b9ad-4769-8c92-a6c4dae69d19",
    "_uuid": "8f2839f25d086af736a60e9eeb907d3b93b6e0e5",
    "execution": {
     "iopub.execute_input": "2024-09-25T08:03:54.851990Z",
     "iopub.status.busy": "2024-09-25T08:03:54.851567Z",
     "iopub.status.idle": "2024-09-25T08:03:57.788884Z",
     "shell.execute_reply": "2024-09-25T08:03:57.787647Z"
    },
    "papermill": {
     "duration": 2.948932,
     "end_time": "2024-09-25T08:03:57.791546",
     "exception": false,
     "start_time": "2024-09-25T08:03:54.842614",
     "status": "completed"
    },
    "tags": []
   },
   "outputs": [],
   "source": [
    "#Import libraries \n",
    "import numpy as np \n",
    "import pandas as pd \n",
    "import matplotlib.pyplot as plt  \n",
    "import seaborn as sns\n",
    "from sklearn.preprocessing import StandardScaler\n",
    "from sklearn.model_selection import train_test_split\n",
    "from sklearn.svm import SVR\n",
    "from sklearn.neural_network import MLPRegressor\n",
    "from sklearn.model_selection import GridSearchCV\n",
    "from sklearn.metrics import mean_squared_error,mean_absolute_error\n",
    "import warnings \n",
    "warnings.simplefilter(\"ignore\")"
   ]
  },
  {
   "cell_type": "markdown",
   "id": "561ca422",
   "metadata": {
    "papermill": {
     "duration": 0.007104,
     "end_time": "2024-09-25T08:03:57.806347",
     "exception": false,
     "start_time": "2024-09-25T08:03:57.799243",
     "status": "completed"
    },
    "tags": []
   },
   "source": [
    "## Load Data"
   ]
  },
  {
   "cell_type": "code",
   "execution_count": 2,
   "id": "f6475a00",
   "metadata": {
    "execution": {
     "iopub.execute_input": "2024-09-25T08:03:57.824151Z",
     "iopub.status.busy": "2024-09-25T08:03:57.823534Z",
     "iopub.status.idle": "2024-09-25T08:03:57.879299Z",
     "shell.execute_reply": "2024-09-25T08:03:57.878223Z"
    },
    "papermill": {
     "duration": 0.067159,
     "end_time": "2024-09-25T08:03:57.881906",
     "exception": false,
     "start_time": "2024-09-25T08:03:57.814747",
     "status": "completed"
    },
    "tags": []
   },
   "outputs": [
    {
     "data": {
      "text/html": [
       "<div>\n",
       "<style scoped>\n",
       "    .dataframe tbody tr th:only-of-type {\n",
       "        vertical-align: middle;\n",
       "    }\n",
       "\n",
       "    .dataframe tbody tr th {\n",
       "        vertical-align: top;\n",
       "    }\n",
       "\n",
       "    .dataframe thead th {\n",
       "        text-align: right;\n",
       "    }\n",
       "</style>\n",
       "<table border=\"1\" class=\"dataframe\">\n",
       "  <thead>\n",
       "    <tr style=\"text-align: right;\">\n",
       "      <th></th>\n",
       "      <th>Type</th>\n",
       "      <th>MDEA</th>\n",
       "      <th>DEA</th>\n",
       "      <th>MEA</th>\n",
       "      <th>PZ</th>\n",
       "      <th>Total</th>\n",
       "      <th>pH</th>\n",
       "      <th>Conductivity</th>\n",
       "      <th>Temperature</th>\n",
       "      <th>Corrosion rate</th>\n",
       "    </tr>\n",
       "  </thead>\n",
       "  <tbody>\n",
       "    <tr>\n",
       "      <th>0</th>\n",
       "      <td>Lean</td>\n",
       "      <td>25</td>\n",
       "      <td>0</td>\n",
       "      <td>0</td>\n",
       "      <td>0</td>\n",
       "      <td>25</td>\n",
       "      <td>8.44</td>\n",
       "      <td>2.48</td>\n",
       "      <td>80</td>\n",
       "      <td>0.01541</td>\n",
       "    </tr>\n",
       "    <tr>\n",
       "      <th>1</th>\n",
       "      <td>Lean</td>\n",
       "      <td>20</td>\n",
       "      <td>5</td>\n",
       "      <td>0</td>\n",
       "      <td>0</td>\n",
       "      <td>25</td>\n",
       "      <td>8.54</td>\n",
       "      <td>2.71</td>\n",
       "      <td>80</td>\n",
       "      <td>0.02296</td>\n",
       "    </tr>\n",
       "    <tr>\n",
       "      <th>2</th>\n",
       "      <td>Lean</td>\n",
       "      <td>15</td>\n",
       "      <td>10</td>\n",
       "      <td>0</td>\n",
       "      <td>0</td>\n",
       "      <td>25</td>\n",
       "      <td>8.59</td>\n",
       "      <td>2.85</td>\n",
       "      <td>80</td>\n",
       "      <td>0.02785</td>\n",
       "    </tr>\n",
       "    <tr>\n",
       "      <th>3</th>\n",
       "      <td>Lean</td>\n",
       "      <td>30</td>\n",
       "      <td>0</td>\n",
       "      <td>0</td>\n",
       "      <td>0</td>\n",
       "      <td>30</td>\n",
       "      <td>8.46</td>\n",
       "      <td>2.57</td>\n",
       "      <td>80</td>\n",
       "      <td>0.01706</td>\n",
       "    </tr>\n",
       "    <tr>\n",
       "      <th>4</th>\n",
       "      <td>Lean</td>\n",
       "      <td>25</td>\n",
       "      <td>5</td>\n",
       "      <td>0</td>\n",
       "      <td>0</td>\n",
       "      <td>30</td>\n",
       "      <td>8.70</td>\n",
       "      <td>2.91</td>\n",
       "      <td>80</td>\n",
       "      <td>0.03056</td>\n",
       "    </tr>\n",
       "  </tbody>\n",
       "</table>\n",
       "</div>"
      ],
      "text/plain": [
       "   Type  MDEA  DEA  MEA  PZ  Total    pH  Conductivity  Temperature  \\\n",
       "0  Lean    25    0    0   0     25  8.44          2.48           80   \n",
       "1  Lean    20    5    0   0     25  8.54          2.71           80   \n",
       "2  Lean    15   10    0   0     25  8.59          2.85           80   \n",
       "3  Lean    30    0    0   0     30  8.46          2.57           80   \n",
       "4  Lean    25    5    0   0     30  8.70          2.91           80   \n",
       "\n",
       "   Corrosion rate  \n",
       "0         0.01541  \n",
       "1         0.02296  \n",
       "2         0.02785  \n",
       "3         0.01706  \n",
       "4         0.03056  "
      ]
     },
     "execution_count": 2,
     "metadata": {},
     "output_type": "execute_result"
    }
   ],
   "source": [
    "#Load data \n",
    "data = pd.read_csv(\"/kaggle/input/corrosion-rate-dataset/Dataset.csv\")\n",
    "data.drop([\"No\"],axis=1,inplace=True)\n",
    "data.head()"
   ]
  },
  {
   "cell_type": "markdown",
   "id": "387cac78",
   "metadata": {
    "papermill": {
     "duration": 0.007695,
     "end_time": "2024-09-25T08:03:57.898230",
     "exception": false,
     "start_time": "2024-09-25T08:03:57.890535",
     "status": "completed"
    },
    "tags": []
   },
   "source": [
    "### Dataset Overview"
   ]
  },
  {
   "cell_type": "code",
   "execution_count": 3,
   "id": "64728a64",
   "metadata": {
    "execution": {
     "iopub.execute_input": "2024-09-25T08:03:57.916381Z",
     "iopub.status.busy": "2024-09-25T08:03:57.915927Z",
     "iopub.status.idle": "2024-09-25T08:03:57.939104Z",
     "shell.execute_reply": "2024-09-25T08:03:57.937901Z"
    },
    "papermill": {
     "duration": 0.035578,
     "end_time": "2024-09-25T08:03:57.941680",
     "exception": false,
     "start_time": "2024-09-25T08:03:57.906102",
     "status": "completed"
    },
    "tags": []
   },
   "outputs": [
    {
     "name": "stdout",
     "output_type": "stream",
     "text": [
      "<class 'pandas.core.frame.DataFrame'>\n",
      "RangeIndex: 114 entries, 0 to 113\n",
      "Data columns (total 10 columns):\n",
      " #   Column          Non-Null Count  Dtype  \n",
      "---  ------          --------------  -----  \n",
      " 0   Type            114 non-null    object \n",
      " 1   MDEA            114 non-null    int64  \n",
      " 2   DEA             114 non-null    int64  \n",
      " 3   MEA             114 non-null    int64  \n",
      " 4   PZ              114 non-null    int64  \n",
      " 5   Total           114 non-null    int64  \n",
      " 6   pH              114 non-null    float64\n",
      " 7   Conductivity    114 non-null    float64\n",
      " 8   Temperature     114 non-null    int64  \n",
      " 9   Corrosion rate  114 non-null    float64\n",
      "dtypes: float64(3), int64(6), object(1)\n",
      "memory usage: 9.0+ KB\n"
     ]
    }
   ],
   "source": [
    "data.info()"
   ]
  },
  {
   "cell_type": "markdown",
   "id": "6392840a",
   "metadata": {
    "papermill": {
     "duration": 0.007912,
     "end_time": "2024-09-25T08:03:57.957983",
     "exception": false,
     "start_time": "2024-09-25T08:03:57.950071",
     "status": "completed"
    },
    "tags": []
   },
   "source": [
    "### Statistical Summary of Data"
   ]
  },
  {
   "cell_type": "code",
   "execution_count": 4,
   "id": "e72caa0e",
   "metadata": {
    "execution": {
     "iopub.execute_input": "2024-09-25T08:03:57.975715Z",
     "iopub.status.busy": "2024-09-25T08:03:57.975302Z",
     "iopub.status.idle": "2024-09-25T08:03:58.011700Z",
     "shell.execute_reply": "2024-09-25T08:03:58.010588Z"
    },
    "papermill": {
     "duration": 0.047907,
     "end_time": "2024-09-25T08:03:58.013851",
     "exception": false,
     "start_time": "2024-09-25T08:03:57.965944",
     "status": "completed"
    },
    "tags": []
   },
   "outputs": [
    {
     "data": {
      "text/html": [
       "<div>\n",
       "<style scoped>\n",
       "    .dataframe tbody tr th:only-of-type {\n",
       "        vertical-align: middle;\n",
       "    }\n",
       "\n",
       "    .dataframe tbody tr th {\n",
       "        vertical-align: top;\n",
       "    }\n",
       "\n",
       "    .dataframe thead th {\n",
       "        text-align: right;\n",
       "    }\n",
       "</style>\n",
       "<table border=\"1\" class=\"dataframe\">\n",
       "  <thead>\n",
       "    <tr style=\"text-align: right;\">\n",
       "      <th></th>\n",
       "      <th>MDEA</th>\n",
       "      <th>DEA</th>\n",
       "      <th>MEA</th>\n",
       "      <th>PZ</th>\n",
       "      <th>Total</th>\n",
       "      <th>pH</th>\n",
       "      <th>Conductivity</th>\n",
       "      <th>Temperature</th>\n",
       "      <th>Corrosion rate</th>\n",
       "    </tr>\n",
       "  </thead>\n",
       "  <tbody>\n",
       "    <tr>\n",
       "      <th>count</th>\n",
       "      <td>114.000000</td>\n",
       "      <td>114.000000</td>\n",
       "      <td>114.000000</td>\n",
       "      <td>114.000000</td>\n",
       "      <td>114.000000</td>\n",
       "      <td>114.000000</td>\n",
       "      <td>114.000000</td>\n",
       "      <td>114.0</td>\n",
       "      <td>114.000000</td>\n",
       "    </tr>\n",
       "    <tr>\n",
       "      <th>mean</th>\n",
       "      <td>28.947368</td>\n",
       "      <td>2.456140</td>\n",
       "      <td>2.456140</td>\n",
       "      <td>2.456140</td>\n",
       "      <td>36.315789</td>\n",
       "      <td>9.021053</td>\n",
       "      <td>7.263333</td>\n",
       "      <td>80.0</td>\n",
       "      <td>0.076653</td>\n",
       "    </tr>\n",
       "    <tr>\n",
       "      <th>std</th>\n",
       "      <td>7.742358</td>\n",
       "      <td>4.899233</td>\n",
       "      <td>4.899233</td>\n",
       "      <td>4.899233</td>\n",
       "      <td>7.072714</td>\n",
       "      <td>0.971653</td>\n",
       "      <td>4.244543</td>\n",
       "      <td>0.0</td>\n",
       "      <td>0.041699</td>\n",
       "    </tr>\n",
       "    <tr>\n",
       "      <th>min</th>\n",
       "      <td>15.000000</td>\n",
       "      <td>0.000000</td>\n",
       "      <td>0.000000</td>\n",
       "      <td>0.000000</td>\n",
       "      <td>25.000000</td>\n",
       "      <td>7.700000</td>\n",
       "      <td>2.480000</td>\n",
       "      <td>80.0</td>\n",
       "      <td>0.015410</td>\n",
       "    </tr>\n",
       "    <tr>\n",
       "      <th>25%</th>\n",
       "      <td>25.000000</td>\n",
       "      <td>0.000000</td>\n",
       "      <td>0.000000</td>\n",
       "      <td>0.000000</td>\n",
       "      <td>30.000000</td>\n",
       "      <td>8.342500</td>\n",
       "      <td>3.300000</td>\n",
       "      <td>80.0</td>\n",
       "      <td>0.042673</td>\n",
       "    </tr>\n",
       "    <tr>\n",
       "      <th>50%</th>\n",
       "      <td>30.000000</td>\n",
       "      <td>0.000000</td>\n",
       "      <td>0.000000</td>\n",
       "      <td>0.000000</td>\n",
       "      <td>35.000000</td>\n",
       "      <td>8.750000</td>\n",
       "      <td>5.610000</td>\n",
       "      <td>80.0</td>\n",
       "      <td>0.071100</td>\n",
       "    </tr>\n",
       "    <tr>\n",
       "      <th>75%</th>\n",
       "      <td>35.000000</td>\n",
       "      <td>0.000000</td>\n",
       "      <td>0.000000</td>\n",
       "      <td>0.000000</td>\n",
       "      <td>45.000000</td>\n",
       "      <td>9.522500</td>\n",
       "      <td>11.580000</td>\n",
       "      <td>80.0</td>\n",
       "      <td>0.109005</td>\n",
       "    </tr>\n",
       "    <tr>\n",
       "      <th>max</th>\n",
       "      <td>45.000000</td>\n",
       "      <td>20.000000</td>\n",
       "      <td>20.000000</td>\n",
       "      <td>20.000000</td>\n",
       "      <td>45.000000</td>\n",
       "      <td>11.650000</td>\n",
       "      <td>13.950000</td>\n",
       "      <td>80.0</td>\n",
       "      <td>0.160060</td>\n",
       "    </tr>\n",
       "  </tbody>\n",
       "</table>\n",
       "</div>"
      ],
      "text/plain": [
       "             MDEA         DEA         MEA          PZ       Total          pH  \\\n",
       "count  114.000000  114.000000  114.000000  114.000000  114.000000  114.000000   \n",
       "mean    28.947368    2.456140    2.456140    2.456140   36.315789    9.021053   \n",
       "std      7.742358    4.899233    4.899233    4.899233    7.072714    0.971653   \n",
       "min     15.000000    0.000000    0.000000    0.000000   25.000000    7.700000   \n",
       "25%     25.000000    0.000000    0.000000    0.000000   30.000000    8.342500   \n",
       "50%     30.000000    0.000000    0.000000    0.000000   35.000000    8.750000   \n",
       "75%     35.000000    0.000000    0.000000    0.000000   45.000000    9.522500   \n",
       "max     45.000000   20.000000   20.000000   20.000000   45.000000   11.650000   \n",
       "\n",
       "       Conductivity  Temperature  Corrosion rate  \n",
       "count    114.000000        114.0      114.000000  \n",
       "mean       7.263333         80.0        0.076653  \n",
       "std        4.244543          0.0        0.041699  \n",
       "min        2.480000         80.0        0.015410  \n",
       "25%        3.300000         80.0        0.042673  \n",
       "50%        5.610000         80.0        0.071100  \n",
       "75%       11.580000         80.0        0.109005  \n",
       "max       13.950000         80.0        0.160060  "
      ]
     },
     "execution_count": 4,
     "metadata": {},
     "output_type": "execute_result"
    }
   ],
   "source": [
    "data.describe()"
   ]
  },
  {
   "cell_type": "markdown",
   "id": "c4c5faf0",
   "metadata": {
    "papermill": {
     "duration": 0.008053,
     "end_time": "2024-09-25T08:03:58.030297",
     "exception": false,
     "start_time": "2024-09-25T08:03:58.022244",
     "status": "completed"
    },
    "tags": []
   },
   "source": [
    "### Convert Categorical to Numerical"
   ]
  },
  {
   "cell_type": "code",
   "execution_count": 5,
   "id": "97b334c8",
   "metadata": {
    "execution": {
     "iopub.execute_input": "2024-09-25T08:03:58.048718Z",
     "iopub.status.busy": "2024-09-25T08:03:58.048311Z",
     "iopub.status.idle": "2024-09-25T08:03:58.056444Z",
     "shell.execute_reply": "2024-09-25T08:03:58.055380Z"
    },
    "papermill": {
     "duration": 0.019897,
     "end_time": "2024-09-25T08:03:58.058542",
     "exception": false,
     "start_time": "2024-09-25T08:03:58.038645",
     "status": "completed"
    },
    "tags": []
   },
   "outputs": [
    {
     "name": "stdout",
     "output_type": "stream",
     "text": [
      "['Lean' 'Rich']\n",
      "['0' '1']\n"
     ]
    }
   ],
   "source": [
    "#convert categorical to numerical by using dictionary \n",
    "print(data[\"Type\"].unique())\n",
    "data[\"Type\"] = data[\"Type\"].map({\"Lean\":\"0\",\"Rich\":\"1\"})\n",
    "print(data[\"Type\"].unique())"
   ]
  },
  {
   "cell_type": "code",
   "execution_count": 6,
   "id": "d4a4344f",
   "metadata": {
    "execution": {
     "iopub.execute_input": "2024-09-25T08:03:58.076815Z",
     "iopub.status.busy": "2024-09-25T08:03:58.076423Z",
     "iopub.status.idle": "2024-09-25T08:03:58.091416Z",
     "shell.execute_reply": "2024-09-25T08:03:58.090315Z"
    },
    "papermill": {
     "duration": 0.026751,
     "end_time": "2024-09-25T08:03:58.093499",
     "exception": false,
     "start_time": "2024-09-25T08:03:58.066748",
     "status": "completed"
    },
    "tags": []
   },
   "outputs": [
    {
     "data": {
      "text/html": [
       "<div>\n",
       "<style scoped>\n",
       "    .dataframe tbody tr th:only-of-type {\n",
       "        vertical-align: middle;\n",
       "    }\n",
       "\n",
       "    .dataframe tbody tr th {\n",
       "        vertical-align: top;\n",
       "    }\n",
       "\n",
       "    .dataframe thead th {\n",
       "        text-align: right;\n",
       "    }\n",
       "</style>\n",
       "<table border=\"1\" class=\"dataframe\">\n",
       "  <thead>\n",
       "    <tr style=\"text-align: right;\">\n",
       "      <th></th>\n",
       "      <th>Type</th>\n",
       "      <th>MDEA</th>\n",
       "      <th>DEA</th>\n",
       "      <th>MEA</th>\n",
       "      <th>PZ</th>\n",
       "      <th>Total</th>\n",
       "      <th>pH</th>\n",
       "      <th>Conductivity</th>\n",
       "      <th>Corrosion rate</th>\n",
       "    </tr>\n",
       "  </thead>\n",
       "  <tbody>\n",
       "    <tr>\n",
       "      <th>0</th>\n",
       "      <td>0</td>\n",
       "      <td>25</td>\n",
       "      <td>0</td>\n",
       "      <td>0</td>\n",
       "      <td>0</td>\n",
       "      <td>25</td>\n",
       "      <td>8.44</td>\n",
       "      <td>2.48</td>\n",
       "      <td>0.01541</td>\n",
       "    </tr>\n",
       "    <tr>\n",
       "      <th>1</th>\n",
       "      <td>0</td>\n",
       "      <td>20</td>\n",
       "      <td>5</td>\n",
       "      <td>0</td>\n",
       "      <td>0</td>\n",
       "      <td>25</td>\n",
       "      <td>8.54</td>\n",
       "      <td>2.71</td>\n",
       "      <td>0.02296</td>\n",
       "    </tr>\n",
       "    <tr>\n",
       "      <th>2</th>\n",
       "      <td>0</td>\n",
       "      <td>15</td>\n",
       "      <td>10</td>\n",
       "      <td>0</td>\n",
       "      <td>0</td>\n",
       "      <td>25</td>\n",
       "      <td>8.59</td>\n",
       "      <td>2.85</td>\n",
       "      <td>0.02785</td>\n",
       "    </tr>\n",
       "    <tr>\n",
       "      <th>3</th>\n",
       "      <td>0</td>\n",
       "      <td>30</td>\n",
       "      <td>0</td>\n",
       "      <td>0</td>\n",
       "      <td>0</td>\n",
       "      <td>30</td>\n",
       "      <td>8.46</td>\n",
       "      <td>2.57</td>\n",
       "      <td>0.01706</td>\n",
       "    </tr>\n",
       "    <tr>\n",
       "      <th>4</th>\n",
       "      <td>0</td>\n",
       "      <td>25</td>\n",
       "      <td>5</td>\n",
       "      <td>0</td>\n",
       "      <td>0</td>\n",
       "      <td>30</td>\n",
       "      <td>8.70</td>\n",
       "      <td>2.91</td>\n",
       "      <td>0.03056</td>\n",
       "    </tr>\n",
       "  </tbody>\n",
       "</table>\n",
       "</div>"
      ],
      "text/plain": [
       "  Type  MDEA  DEA  MEA  PZ  Total    pH  Conductivity  Corrosion rate\n",
       "0    0    25    0    0   0     25  8.44          2.48         0.01541\n",
       "1    0    20    5    0   0     25  8.54          2.71         0.02296\n",
       "2    0    15   10    0   0     25  8.59          2.85         0.02785\n",
       "3    0    30    0    0   0     30  8.46          2.57         0.01706\n",
       "4    0    25    5    0   0     30  8.70          2.91         0.03056"
      ]
     },
     "execution_count": 6,
     "metadata": {},
     "output_type": "execute_result"
    }
   ],
   "source": [
    "#Dorp Temperature Feature \n",
    "data=data.drop(columns=[\"Temperature\"])\n",
    "data.head(5)"
   ]
  },
  {
   "cell_type": "markdown",
   "id": "a3007cd2",
   "metadata": {
    "papermill": {
     "duration": 0.008131,
     "end_time": "2024-09-25T08:03:58.110235",
     "exception": false,
     "start_time": "2024-09-25T08:03:58.102104",
     "status": "completed"
    },
    "tags": []
   },
   "source": [
    "**We can use a heatmap to visualize the correlation between the features in the dataset. This helps identify which features are highly correlated with each other or with the target variable.**"
   ]
  },
  {
   "cell_type": "code",
   "execution_count": 7,
   "id": "82cbb158",
   "metadata": {
    "execution": {
     "iopub.execute_input": "2024-09-25T08:03:58.128946Z",
     "iopub.status.busy": "2024-09-25T08:03:58.128484Z",
     "iopub.status.idle": "2024-09-25T08:03:58.747383Z",
     "shell.execute_reply": "2024-09-25T08:03:58.746035Z"
    },
    "papermill": {
     "duration": 0.631798,
     "end_time": "2024-09-25T08:03:58.750565",
     "exception": false,
     "start_time": "2024-09-25T08:03:58.118767",
     "status": "completed"
    },
    "tags": []
   },
   "outputs": [
    {
     "data": {
      "image/png": "[encoded data removed]",
      "text/plain": [
       "<Figure size 1200x800 with 2 Axes>"
      ]
     },
     "metadata": {},
     "output_type": "display_data"
    }
   ],
   "source": [
    "#show correlation between feature\n",
    "plt.figure(figsize=(12,8))\n",
    "sns.heatmap(data.corr(),annot=True,fmt=\".3f\")\n",
    "plt.title(\"Correlation Between Feature\")\n",
    "plt.show()"
   ]
  },
  {
   "cell_type": "code",
   "execution_count": 8,
   "id": "6e7042c0",
   "metadata": {
    "execution": {
     "iopub.execute_input": "2024-09-25T08:03:58.773359Z",
     "iopub.status.busy": "2024-09-25T08:03:58.772898Z",
     "iopub.status.idle": "2024-09-25T08:03:58.780785Z",
     "shell.execute_reply": "2024-09-25T08:03:58.779534Z"
    },
    "papermill": {
     "duration": 0.021665,
     "end_time": "2024-09-25T08:03:58.783049",
     "exception": false,
     "start_time": "2024-09-25T08:03:58.761384",
     "status": "completed"
    },
    "tags": []
   },
   "outputs": [
    {
     "name": "stdout",
     "output_type": "stream",
     "text": [
      "shape of X is: (114, 5)\n",
      "shape of y is: (114,)\n"
     ]
    }
   ],
   "source": [
    "#split data to X,y\n",
    "X = data.drop(columns=[\"Corrosion rate\",\"DEA\",\"MEA\",\"PZ\"])\n",
    "y = data[\"Corrosion rate\"]\n",
    "print(\"shape of X is:\" ,X.shape)\n",
    "print(\"shape of y is:\",y.shape)"
   ]
  },
  {
   "cell_type": "code",
   "execution_count": 9,
   "id": "32a80ab0",
   "metadata": {
    "execution": {
     "iopub.execute_input": "2024-09-25T08:03:58.804872Z",
     "iopub.status.busy": "2024-09-25T08:03:58.804491Z",
     "iopub.status.idle": "2024-09-25T08:03:58.813806Z",
     "shell.execute_reply": "2024-09-25T08:03:58.812534Z"
    },
    "papermill": {
     "duration": 0.022931,
     "end_time": "2024-09-25T08:03:58.816105",
     "exception": false,
     "start_time": "2024-09-25T08:03:58.793174",
     "status": "completed"
    },
    "tags": []
   },
   "outputs": [],
   "source": [
    "#normalization to data \n",
    "norm = StandardScaler()\n",
    "X = norm.fit_transform(X)"
   ]
  },
  {
   "cell_type": "markdown",
   "id": "b1fa0f42",
   "metadata": {
    "papermill": {
     "duration": 0.00987,
     "end_time": "2024-09-25T08:03:58.836374",
     "exception": false,
     "start_time": "2024-09-25T08:03:58.826504",
     "status": "completed"
    },
    "tags": []
   },
   "source": [
    "### Correlation Analysis:\n",
    "- Conductivity showed a strong **positive correlation** with the corrosion rate.\n",
    "\n",
    "- Solution pH demonstrated a **negative correlation** with the corrosion rate."
   ]
  },
  {
   "cell_type": "code",
   "execution_count": 10,
   "id": "362481f8",
   "metadata": {
    "execution": {
     "iopub.execute_input": "2024-09-25T08:03:58.859207Z",
     "iopub.status.busy": "2024-09-25T08:03:58.858755Z",
     "iopub.status.idle": "2024-09-25T08:03:59.775720Z",
     "shell.execute_reply": "2024-09-25T08:03:59.774583Z"
    },
    "papermill": {
     "duration": 0.931487,
     "end_time": "2024-09-25T08:03:59.778082",
     "exception": false,
     "start_time": "2024-09-25T08:03:58.846595",
     "status": "completed"
    },
    "tags": []
   },
   "outputs": [
    {
     "data": {
      "image/png": "[encoded data removed]",
      "text/plain": [
       "<Figure size 1200x800 with 5 Axes>"
      ]
     },
     "metadata": {},
     "output_type": "display_data"
    }
   ],
   "source": [
    "#to show correlation parameter with Corrosion rate \n",
    "Feature_name = data.columns.tolist()\n",
    "plt.figure(figsize=(12,8))\n",
    "for i in range (X.shape[1]):\n",
    "    plt.subplot(4,2,i+1)\n",
    "    plt.scatter(X[:,i],y)\n",
    "    plt.xlabel(f\"{Feature_name[i]}\")\n",
    "plt.tight_layout()\n",
    "plt.show()"
   ]
  },
  {
   "cell_type": "markdown",
   "id": "e7d9cdbc",
   "metadata": {
    "papermill": {
     "duration": 0.010683,
     "end_time": "2024-09-25T08:03:59.800205",
     "exception": false,
     "start_time": "2024-09-25T08:03:59.789522",
     "status": "completed"
    },
    "tags": []
   },
   "source": [
    "### Splitting Data"
   ]
  },
  {
   "cell_type": "code",
   "execution_count": 11,
   "id": "bde2c1f5",
   "metadata": {
    "execution": {
     "iopub.execute_input": "2024-09-25T08:03:59.823990Z",
     "iopub.status.busy": "2024-09-25T08:03:59.823565Z",
     "iopub.status.idle": "2024-09-25T08:03:59.834361Z",
     "shell.execute_reply": "2024-09-25T08:03:59.833279Z"
    },
    "papermill": {
     "duration": 0.025928,
     "end_time": "2024-09-25T08:03:59.836935",
     "exception": false,
     "start_time": "2024-09-25T08:03:59.811007",
     "status": "completed"
    },
    "tags": []
   },
   "outputs": [
    {
     "name": "stdout",
     "output_type": "stream",
     "text": [
      "shape of X_5_feature_train is: (102, 5)\n",
      "shape of y_5_feature_train is: (102,)\n",
      "shape of X_5_feature_test is: (12, 5)\n",
      "shape of y_5_feature_test is: (12,)\n"
     ]
    }
   ],
   "source": [
    "#Splitting data \n",
    "X_train,X_test,y_train,y_test = train_test_split(X,y,test_size=0.1,shuffle=True,random_state=42)\n",
    "print(\"shape of X_5_feature_train is:\",X_train.shape)\n",
    "print(\"shape of y_5_feature_train is:\",y_train.shape)\n",
    "print(\"shape of X_5_feature_test is:\",X_test.shape)\n",
    "print(\"shape of y_5_feature_test is:\",y_test.shape)"
   ]
  },
  {
   "cell_type": "code",
   "execution_count": 12,
   "id": "f2e4946a",
   "metadata": {
    "execution": {
     "iopub.execute_input": "2024-09-25T08:03:59.861433Z",
     "iopub.status.busy": "2024-09-25T08:03:59.860409Z",
     "iopub.status.idle": "2024-09-25T08:03:59.865770Z",
     "shell.execute_reply": "2024-09-25T08:03:59.864644Z"
    },
    "papermill": {
     "duration": 0.019883,
     "end_time": "2024-09-25T08:03:59.867950",
     "exception": false,
     "start_time": "2024-09-25T08:03:59.848067",
     "status": "completed"
    },
    "tags": []
   },
   "outputs": [],
   "source": [
    "### Mean Absolute Relative Difference (MARD) Calculation\n",
    "def calculate_mard(y_true,y_pred):\n",
    "    return np.abs((y_true - y_pred)/y_true)*100"
   ]
  },
  {
   "cell_type": "code",
   "execution_count": 13,
   "id": "2cca8a0b",
   "metadata": {
    "execution": {
     "iopub.execute_input": "2024-09-25T08:03:59.892117Z",
     "iopub.status.busy": "2024-09-25T08:03:59.891419Z",
     "iopub.status.idle": "2024-09-25T08:03:59.897683Z",
     "shell.execute_reply": "2024-09-25T08:03:59.896427Z"
    },
    "papermill": {
     "duration": 0.021009,
     "end_time": "2024-09-25T08:03:59.899997",
     "exception": false,
     "start_time": "2024-09-25T08:03:59.878988",
     "status": "completed"
    },
    "tags": []
   },
   "outputs": [],
   "source": [
    "### MARD Statistics Calculation\n",
    "def calculate_mard_statistics(mard_values):\n",
    "    # Mean\n",
    "    mean_value = np.mean(mard_values)\n",
    "    \n",
    "    # Standard Deviation\n",
    "    std_dev = np.std(mard_values)\n",
    "    \n",
    "    # Minimum\n",
    "    min_value = np.min(mard_values)\n",
    "    \n",
    "    # Maximum\n",
    "    max_value = np.max(mard_values)\n",
    "    \n",
    "    # Square Error (Mean Squared Error)\n",
    "    square_error = np.mean(np.square(mard_values))\n",
    "    \n",
    "    return mean_value, std_dev, min_value, max_value, square_error"
   ]
  },
  {
   "cell_type": "markdown",
   "id": "52ceaf5f",
   "metadata": {
    "papermill": {
     "duration": 0.010605,
     "end_time": "2024-09-25T08:03:59.921894",
     "exception": false,
     "start_time": "2024-09-25T08:03:59.911289",
     "status": "completed"
    },
    "tags": []
   },
   "source": [
    "## Physics-Informed Neural Network (PINN) Model Definition"
   ]
  },
  {
   "cell_type": "code",
   "execution_count": 14,
   "id": "d449d651",
   "metadata": {
    "execution": {
     "iopub.execute_input": "2024-09-25T08:03:59.945707Z",
     "iopub.status.busy": "2024-09-25T08:03:59.945312Z",
     "iopub.status.idle": "2024-09-25T08:04:20.979927Z",
     "shell.execute_reply": "2024-09-25T08:04:20.978591Z"
    },
    "papermill": {
     "duration": 21.0496,
     "end_time": "2024-09-25T08:04:20.982438",
     "exception": false,
     "start_time": "2024-09-25T08:03:59.932838",
     "status": "completed"
    },
    "tags": []
   },
   "outputs": [
    {
     "name": "stdout",
     "output_type": "stream",
     "text": [
      "Epoch 1/100\n",
      "\u001b[1m3/3\u001b[0m \u001b[32m━━━━━━━━━━━━━━━━━━━━\u001b[0m\u001b[37m\u001b[0m \u001b[1m2s\u001b[0m 96ms/step - loss: 39.7714 - val_loss: 15.9969\n",
      "Epoch 2/100\n",
      "\u001b[1m3/3\u001b[0m \u001b[32m━━━━━━━━━━━━━━━━━━━━\u001b[0m\u001b[37m\u001b[0m \u001b[1m0s\u001b[0m 15ms/step - loss: 23.8466 - val_loss: 17.1724\n",
      "Epoch 3/100\n",
      "\u001b[1m3/3\u001b[0m \u001b[32m━━━━━━━━━━━━━━━━━━━━\u001b[0m\u001b[37m\u001b[0m \u001b[1m0s\u001b[0m 15ms/step - loss: 9.0702 - val_loss: 4.4287\n",
      "Epoch 4/100\n",
      "\u001b[1m3/3\u001b[0m \u001b[32m━━━━━━━━━━━━━━━━━━━━\u001b[0m\u001b[37m\u001b[0m \u001b[1m0s\u001b[0m 14ms/step - loss: 7.1609 - val_loss: 8.7658\n",
      "Epoch 5/100\n",
      "\u001b[1m3/3\u001b[0m \u001b[32m━━━━━━━━━━━━━━━━━━━━\u001b[0m\u001b[37m\u001b[0m \u001b[1m0s\u001b[0m 14ms/step - loss: 7.7149 - val_loss: 0.4996\n",
      "Epoch 6/100\n",
      "\u001b[1m3/3\u001b[0m \u001b[32m━━━━━━━━━━━━━━━━━━━━\u001b[0m\u001b[37m\u001b[0m \u001b[1m0s\u001b[0m 14ms/step - loss: 0.4606 - val_loss: 1.6425\n",
      "Epoch 7/100\n",
      "\u001b[1m3/3\u001b[0m \u001b[32m━━━━━━━━━━━━━━━━━━━━\u001b[0m\u001b[37m\u001b[0m \u001b[1m0s\u001b[0m 15ms/step - loss: 1.7858 - val_loss: 3.1988\n",
      "Epoch 8/100\n",
      "\u001b[1m3/3\u001b[0m \u001b[32m━━━━━━━━━━━━━━━━━━━━\u001b[0m\u001b[37m\u001b[0m \u001b[1m0s\u001b[0m 15ms/step - loss: 2.4952 - val_loss: 1.2864\n",
      "Epoch 9/100\n",
      "\u001b[1m3/3\u001b[0m \u001b[32m━━━━━━━━━━━━━━━━━━━━\u001b[0m\u001b[37m\u001b[0m \u001b[1m0s\u001b[0m 15ms/step - loss: 0.7366 - val_loss: 0.0361\n",
      "Epoch 10/100\n",
      "\u001b[1m3/3\u001b[0m \u001b[32m━━━━━━━━━━━━━━━━━━━━\u001b[0m\u001b[37m\u001b[0m \u001b[1m0s\u001b[0m 14ms/step - loss: 0.0769 - val_loss: 0.3879\n",
      "Epoch 11/100\n",
      "\u001b[1m3/3\u001b[0m \u001b[32m━━━━━━━━━━━━━━━━━━━━\u001b[0m\u001b[37m\u001b[0m \u001b[1m0s\u001b[0m 14ms/step - loss: 0.5916 - val_loss: 0.5942\n",
      "Epoch 12/100\n",
      "\u001b[1m3/3\u001b[0m \u001b[32m━━━━━━━━━━━━━━━━━━━━\u001b[0m\u001b[37m\u001b[0m \u001b[1m0s\u001b[0m 15ms/step - loss: 0.6408 - val_loss: 0.2212\n",
      "Epoch 13/100\n",
      "\u001b[1m3/3\u001b[0m \u001b[32m━━━━━━━━━━━━━━━━━━━━\u001b[0m\u001b[37m\u001b[0m \u001b[1m0s\u001b[0m 14ms/step - loss: 0.2522 - val_loss: 0.0403\n",
      "Epoch 14/100\n",
      "\u001b[1m3/3\u001b[0m \u001b[32m━━━━━━━━━━━━━━━━━━━━\u001b[0m\u001b[37m\u001b[0m \u001b[1m0s\u001b[0m 14ms/step - loss: 0.0435 - val_loss: 0.2547\n",
      "Epoch 15/100\n",
      "\u001b[1m3/3\u001b[0m \u001b[32m━━━━━━━━━━━━━━━━━━━━\u001b[0m\u001b[37m\u001b[0m \u001b[1m0s\u001b[0m 14ms/step - loss: 0.1769 - val_loss: 0.3520\n",
      "Epoch 16/100\n",
      "\u001b[1m3/3\u001b[0m \u001b[32m━━━━━━━━━━━━━━━━━━━━\u001b[0m\u001b[37m\u001b[0m \u001b[1m0s\u001b[0m 15ms/step - loss: 0.2288 - val_loss: 0.1799\n",
      "Epoch 17/100\n",
      "\u001b[1m3/3\u001b[0m \u001b[32m━━━━━━━━━━━━━━━━━━━━\u001b[0m\u001b[37m\u001b[0m \u001b[1m0s\u001b[0m 15ms/step - loss: 0.0806 - val_loss: 0.0377\n",
      "Epoch 18/100\n",
      "\u001b[1m3/3\u001b[0m \u001b[32m━━━━━━━━━━━━━━━━━━━━\u001b[0m\u001b[37m\u001b[0m \u001b[1m0s\u001b[0m 14ms/step - loss: 0.0275 - val_loss: 0.0363\n",
      "Epoch 19/100\n",
      "\u001b[1m3/3\u001b[0m \u001b[32m━━━━━━━━━━━━━━━━━━━━\u001b[0m\u001b[37m\u001b[0m \u001b[1m0s\u001b[0m 15ms/step - loss: 0.0619 - val_loss: 0.0501\n",
      "Epoch 20/100\n",
      "\u001b[1m3/3\u001b[0m \u001b[32m━━━━━━━━━━━━━━━━━━━━\u001b[0m\u001b[37m\u001b[0m \u001b[1m0s\u001b[0m 15ms/step - loss: 0.0626 - val_loss: 0.0259\n",
      "Epoch 21/100\n",
      "\u001b[1m3/3\u001b[0m \u001b[32m━━━━━━━━━━━━━━━━━━━━\u001b[0m\u001b[37m\u001b[0m \u001b[1m0s\u001b[0m 14ms/step - loss: 0.0273 - val_loss: 0.0229\n",
      "Epoch 22/100\n",
      "\u001b[1m3/3\u001b[0m \u001b[32m━━━━━━━━━━━━━━━━━━━━\u001b[0m\u001b[37m\u001b[0m \u001b[1m0s\u001b[0m 14ms/step - loss: 0.0119 - val_loss: 0.0482\n",
      "Epoch 23/100\n",
      "\u001b[1m3/3\u001b[0m \u001b[32m━━━━━━━━━━━━━━━━━━━━\u001b[0m\u001b[37m\u001b[0m \u001b[1m0s\u001b[0m 15ms/step - loss: 0.0248 - val_loss: 0.0483\n",
      "Epoch 24/100\n",
      "\u001b[1m3/3\u001b[0m \u001b[32m━━━━━━━━━━━━━━━━━━━━\u001b[0m\u001b[37m\u001b[0m \u001b[1m0s\u001b[0m 14ms/step - loss: 0.0232 - val_loss: 0.0238\n",
      "Epoch 25/100\n",
      "\u001b[1m3/3\u001b[0m \u001b[32m━━━━━━━━━━━━━━━━━━━━\u001b[0m\u001b[37m\u001b[0m \u001b[1m0s\u001b[0m 15ms/step - loss: 0.0091 - val_loss: 0.0117\n",
      "Epoch 26/100\n",
      "\u001b[1m3/3\u001b[0m \u001b[32m━━━━━━━━━━━━━━━━━━━━\u001b[0m\u001b[37m\u001b[0m \u001b[1m0s\u001b[0m 14ms/step - loss: 0.0083 - val_loss: 0.0130\n",
      "Epoch 27/100\n",
      "\u001b[1m3/3\u001b[0m \u001b[32m━━━━━━━━━━━━━━━━━━━━\u001b[0m\u001b[37m\u001b[0m \u001b[1m0s\u001b[0m 14ms/step - loss: 0.0118 - val_loss: 0.0111\n",
      "Epoch 28/100\n",
      "\u001b[1m3/3\u001b[0m \u001b[32m━━━━━━━━━━━━━━━━━━━━\u001b[0m\u001b[37m\u001b[0m \u001b[1m0s\u001b[0m 14ms/step - loss: 0.0079 - val_loss: 0.0083\n",
      "Epoch 29/100\n",
      "\u001b[1m3/3\u001b[0m \u001b[32m━━━━━━━━━━━━━━━━━━━━\u001b[0m\u001b[37m\u001b[0m \u001b[1m0s\u001b[0m 14ms/step - loss: 0.0042 - val_loss: 0.0097\n",
      "Epoch 30/100\n",
      "\u001b[1m3/3\u001b[0m \u001b[32m━━━━━━━━━━━━━━━━━━━━\u001b[0m\u001b[37m\u001b[0m \u001b[1m0s\u001b[0m 14ms/step - loss: 0.0054 - val_loss: 0.0100\n",
      "Epoch 31/100\n",
      "\u001b[1m3/3\u001b[0m \u001b[32m━━━━━━━━━━━━━━━━━━━━\u001b[0m\u001b[37m\u001b[0m \u001b[1m0s\u001b[0m 13ms/step - loss: 0.0052 - val_loss: 0.0070\n",
      "Epoch 32/100\n",
      "\u001b[1m3/3\u001b[0m \u001b[32m━━━━━━━━━━━━━━━━━━━━\u001b[0m\u001b[37m\u001b[0m \u001b[1m0s\u001b[0m 14ms/step - loss: 0.0033 - val_loss: 0.0053\n",
      "Epoch 33/100\n",
      "\u001b[1m3/3\u001b[0m \u001b[32m━━━━━━━━━━━━━━━━━━━━\u001b[0m\u001b[37m\u001b[0m \u001b[1m0s\u001b[0m 15ms/step - loss: 0.0029 - val_loss: 0.0055\n",
      "Epoch 34/100\n",
      "\u001b[1m3/3\u001b[0m \u001b[32m━━━━━━━━━━━━━━━━━━━━\u001b[0m\u001b[37m\u001b[0m \u001b[1m0s\u001b[0m 14ms/step - loss: 0.0030 - val_loss: 0.0049\n",
      "Epoch 35/100\n",
      "\u001b[1m3/3\u001b[0m \u001b[32m━━━━━━━━━━━━━━━━━━━━\u001b[0m\u001b[37m\u001b[0m \u001b[1m0s\u001b[0m 14ms/step - loss: 0.0028 - val_loss: 0.0040\n",
      "Epoch 36/100\n",
      "\u001b[1m3/3\u001b[0m \u001b[32m━━━━━━━━━━━━━━━━━━━━\u001b[0m\u001b[37m\u001b[0m \u001b[1m0s\u001b[0m 14ms/step - loss: 0.0021 - val_loss: 0.0037\n",
      "Epoch 37/100\n",
      "\u001b[1m3/3\u001b[0m \u001b[32m━━━━━━━━━━━━━━━━━━━━\u001b[0m\u001b[37m\u001b[0m \u001b[1m0s\u001b[0m 14ms/step - loss: 0.0023 - val_loss: 0.0035\n",
      "Epoch 38/100\n",
      "\u001b[1m3/3\u001b[0m \u001b[32m━━━━━━━━━━━━━━━━━━━━\u001b[0m\u001b[37m\u001b[0m \u001b[1m0s\u001b[0m 15ms/step - loss: 0.0021 - val_loss: 0.0032\n",
      "Epoch 39/100\n",
      "\u001b[1m3/3\u001b[0m \u001b[32m━━━━━━━━━━━━━━━━━━━━\u001b[0m\u001b[37m\u001b[0m \u001b[1m0s\u001b[0m 14ms/step - loss: 0.0018 - val_loss: 0.0033\n",
      "Epoch 40/100\n",
      "\u001b[1m3/3\u001b[0m \u001b[32m━━━━━━━━━━━━━━━━━━━━\u001b[0m\u001b[37m\u001b[0m \u001b[1m0s\u001b[0m 15ms/step - loss: 0.0018 - val_loss: 0.0033\n",
      "Epoch 41/100\n",
      "\u001b[1m3/3\u001b[0m \u001b[32m━━━━━━━━━━━━━━━━━━━━\u001b[0m\u001b[37m\u001b[0m \u001b[1m0s\u001b[0m 15ms/step - loss: 0.0019 - val_loss: 0.0029\n",
      "Epoch 42/100\n",
      "\u001b[1m3/3\u001b[0m \u001b[32m━━━━━━━━━━━━━━━━━━━━\u001b[0m\u001b[37m\u001b[0m \u001b[1m0s\u001b[0m 14ms/step - loss: 0.0016 - val_loss: 0.0026\n",
      "Epoch 43/100\n",
      "\u001b[1m3/3\u001b[0m \u001b[32m━━━━━━━━━━━━━━━━━━━━\u001b[0m\u001b[37m\u001b[0m \u001b[1m0s\u001b[0m 15ms/step - loss: 0.0017 - val_loss: 0.0024\n",
      "Epoch 44/100\n",
      "\u001b[1m3/3\u001b[0m \u001b[32m━━━━━━━━━━━━━━━━━━━━\u001b[0m\u001b[37m\u001b[0m \u001b[1m0s\u001b[0m 15ms/step - loss: 0.0016 - val_loss: 0.0024\n",
      "Epoch 45/100\n",
      "\u001b[1m3/3\u001b[0m \u001b[32m━━━━━━━━━━━━━━━━━━━━\u001b[0m\u001b[37m\u001b[0m \u001b[1m0s\u001b[0m 15ms/step - loss: 0.0016 - val_loss: 0.0025\n",
      "Epoch 46/100\n",
      "\u001b[1m3/3\u001b[0m \u001b[32m━━━━━━━━━━━━━━━━━━━━\u001b[0m\u001b[37m\u001b[0m \u001b[1m0s\u001b[0m 15ms/step - loss: 0.0014 - val_loss: 0.0026\n",
      "Epoch 47/100\n",
      "\u001b[1m3/3\u001b[0m \u001b[32m━━━━━━━━━━━━━━━━━━━━\u001b[0m\u001b[37m\u001b[0m \u001b[1m0s\u001b[0m 14ms/step - loss: 0.0016 - val_loss: 0.0023\n",
      "Epoch 48/100\n",
      "\u001b[1m3/3\u001b[0m \u001b[32m━━━━━━━━━━━━━━━━━━━━\u001b[0m\u001b[37m\u001b[0m \u001b[1m0s\u001b[0m 15ms/step - loss: 0.0015 - val_loss: 0.0021\n",
      "Epoch 49/100\n",
      "\u001b[1m3/3\u001b[0m \u001b[32m━━━━━━━━━━━━━━━━━━━━\u001b[0m\u001b[37m\u001b[0m \u001b[1m0s\u001b[0m 14ms/step - loss: 0.0015 - val_loss: 0.0021\n",
      "Epoch 50/100\n",
      "\u001b[1m3/3\u001b[0m \u001b[32m━━━━━━━━━━━━━━━━━━━━\u001b[0m\u001b[37m\u001b[0m \u001b[1m0s\u001b[0m 14ms/step - loss: 0.0016 - val_loss: 0.0021\n",
      "Epoch 51/100\n",
      "\u001b[1m3/3\u001b[0m \u001b[32m━━━━━━━━━━━━━━━━━━━━\u001b[0m\u001b[37m\u001b[0m \u001b[1m0s\u001b[0m 14ms/step - loss: 0.0015 - val_loss: 0.0022\n",
      "Epoch 52/100\n",
      "\u001b[1m3/3\u001b[0m \u001b[32m━━━━━━━━━━━━━━━━━━━━\u001b[0m\u001b[37m\u001b[0m \u001b[1m0s\u001b[0m 14ms/step - loss: 0.0016 - val_loss: 0.0021\n",
      "Epoch 53/100\n",
      "\u001b[1m3/3\u001b[0m \u001b[32m━━━━━━━━━━━━━━━━━━━━\u001b[0m\u001b[37m\u001b[0m \u001b[1m0s\u001b[0m 15ms/step - loss: 0.0014 - val_loss: 0.0020\n",
      "Epoch 54/100\n",
      "\u001b[1m3/3\u001b[0m \u001b[32m━━━━━━━━━━━━━━━━━━━━\u001b[0m\u001b[37m\u001b[0m \u001b[1m0s\u001b[0m 14ms/step - loss: 0.0014 - val_loss: 0.0019\n",
      "Epoch 55/100\n",
      "\u001b[1m3/3\u001b[0m \u001b[32m━━━━━━━━━━━━━━━━━━━━\u001b[0m\u001b[37m\u001b[0m \u001b[1m0s\u001b[0m 14ms/step - loss: 0.0013 - val_loss: 0.0019\n",
      "Epoch 56/100\n",
      "\u001b[1m3/3\u001b[0m \u001b[32m━━━━━━━━━━━━━━━━━━━━\u001b[0m\u001b[37m\u001b[0m \u001b[1m0s\u001b[0m 14ms/step - loss: 0.0013 - val_loss: 0.0019\n",
      "Epoch 57/100\n",
      "\u001b[1m3/3\u001b[0m \u001b[32m━━━━━━━━━━━━━━━━━━━━\u001b[0m\u001b[37m\u001b[0m \u001b[1m0s\u001b[0m 15ms/step - loss: 0.0012 - val_loss: 0.0019\n",
      "Epoch 58/100\n",
      "\u001b[1m3/3\u001b[0m \u001b[32m━━━━━━━━━━━━━━━━━━━━\u001b[0m\u001b[37m\u001b[0m \u001b[1m0s\u001b[0m 15ms/step - loss: 0.0012 - val_loss: 0.0019\n",
      "Epoch 59/100\n",
      "\u001b[1m3/3\u001b[0m \u001b[32m━━━━━━━━━━━━━━━━━━━━\u001b[0m\u001b[37m\u001b[0m \u001b[1m0s\u001b[0m 14ms/step - loss: 0.0013 - val_loss: 0.0018\n",
      "Epoch 60/100\n",
      "\u001b[1m3/3\u001b[0m \u001b[32m━━━━━━━━━━━━━━━━━━━━\u001b[0m\u001b[37m\u001b[0m \u001b[1m0s\u001b[0m 14ms/step - loss: 0.0013 - val_loss: 0.0017\n",
      "Epoch 61/100\n",
      "\u001b[1m3/3\u001b[0m \u001b[32m━━━━━━━━━━━━━━━━━━━━\u001b[0m\u001b[37m\u001b[0m \u001b[1m0s\u001b[0m 14ms/step - loss: 0.0012 - val_loss: 0.0017\n",
      "Epoch 62/100\n",
      "\u001b[1m3/3\u001b[0m \u001b[32m━━━━━━━━━━━━━━━━━━━━\u001b[0m\u001b[37m\u001b[0m \u001b[1m0s\u001b[0m 15ms/step - loss: 0.0012 - val_loss: 0.0017\n",
      "Epoch 63/100\n",
      "\u001b[1m3/3\u001b[0m \u001b[32m━━━━━━━━━━━━━━━━━━━━\u001b[0m\u001b[37m\u001b[0m \u001b[1m0s\u001b[0m 14ms/step - loss: 0.0013 - val_loss: 0.0017\n",
      "Epoch 64/100\n",
      "\u001b[1m3/3\u001b[0m \u001b[32m━━━━━━━━━━━━━━━━━━━━\u001b[0m\u001b[37m\u001b[0m \u001b[1m0s\u001b[0m 14ms/step - loss: 0.0012 - val_loss: 0.0016\n",
      "Epoch 65/100\n",
      "\u001b[1m3/3\u001b[0m \u001b[32m━━━━━━━━━━━━━━━━━━━━\u001b[0m\u001b[37m\u001b[0m \u001b[1m0s\u001b[0m 14ms/step - loss: 0.0012 - val_loss: 0.0016\n",
      "Epoch 66/100\n",
      "\u001b[1m3/3\u001b[0m \u001b[32m━━━━━━━━━━━━━━━━━━━━\u001b[0m\u001b[37m\u001b[0m \u001b[1m0s\u001b[0m 14ms/step - loss: 0.0011 - val_loss: 0.0016\n",
      "Epoch 67/100\n",
      "\u001b[1m3/3\u001b[0m \u001b[32m━━━━━━━━━━━━━━━━━━━━\u001b[0m\u001b[37m\u001b[0m \u001b[1m0s\u001b[0m 14ms/step - loss: 0.0012 - val_loss: 0.0016\n",
      "Epoch 68/100\n",
      "\u001b[1m3/3\u001b[0m \u001b[32m━━━━━━━━━━━━━━━━━━━━\u001b[0m\u001b[37m\u001b[0m \u001b[1m0s\u001b[0m 14ms/step - loss: 0.0010 - val_loss: 0.0016\n",
      "Epoch 69/100\n",
      "\u001b[1m3/3\u001b[0m \u001b[32m━━━━━━━━━━━━━━━━━━━━\u001b[0m\u001b[37m\u001b[0m \u001b[1m0s\u001b[0m 15ms/step - loss: 0.0011 - val_loss: 0.0015\n",
      "Epoch 70/100\n",
      "\u001b[1m3/3\u001b[0m \u001b[32m━━━━━━━━━━━━━━━━━━━━\u001b[0m\u001b[37m\u001b[0m \u001b[1m0s\u001b[0m 14ms/step - loss: 0.0012 - val_loss: 0.0015\n",
      "Epoch 71/100\n",
      "\u001b[1m3/3\u001b[0m \u001b[32m━━━━━━━━━━━━━━━━━━━━\u001b[0m\u001b[37m\u001b[0m \u001b[1m0s\u001b[0m 14ms/step - loss: 0.0012 - val_loss: 0.0015\n",
      "Epoch 72/100\n",
      "\u001b[1m3/3\u001b[0m \u001b[32m━━━━━━━━━━━━━━━━━━━━\u001b[0m\u001b[37m\u001b[0m \u001b[1m0s\u001b[0m 14ms/step - loss: 0.0012 - val_loss: 0.0015\n",
      "Epoch 73/100\n",
      "\u001b[1m3/3\u001b[0m \u001b[32m━━━━━━━━━━━━━━━━━━━━\u001b[0m\u001b[37m\u001b[0m \u001b[1m0s\u001b[0m 14ms/step - loss: 0.0011 - val_loss: 0.0015\n",
      "Epoch 74/100\n",
      "\u001b[1m3/3\u001b[0m \u001b[32m━━━━━━━━━━━━━━━━━━━━\u001b[0m\u001b[37m\u001b[0m \u001b[1m0s\u001b[0m 14ms/step - loss: 0.0011 - val_loss: 0.0014\n",
      "Epoch 75/100\n",
      "\u001b[1m3/3\u001b[0m \u001b[32m━━━━━━━━━━━━━━━━━━━━\u001b[0m\u001b[37m\u001b[0m \u001b[1m0s\u001b[0m 15ms/step - loss: 0.0010 - val_loss: 0.0014\n",
      "Epoch 76/100\n",
      "\u001b[1m3/3\u001b[0m \u001b[32m━━━━━━━━━━━━━━━━━━━━\u001b[0m\u001b[37m\u001b[0m \u001b[1m0s\u001b[0m 14ms/step - loss: 0.0011 - val_loss: 0.0014\n",
      "Epoch 77/100\n",
      "\u001b[1m3/3\u001b[0m \u001b[32m━━━━━━━━━━━━━━━━━━━━\u001b[0m\u001b[37m\u001b[0m \u001b[1m0s\u001b[0m 15ms/step - loss: 0.0011 - val_loss: 0.0014\n",
      "Epoch 78/100\n",
      "\u001b[1m3/3\u001b[0m \u001b[32m━━━━━━━━━━━━━━━━━━━━\u001b[0m\u001b[37m\u001b[0m \u001b[1m0s\u001b[0m 15ms/step - loss: 0.0010 - val_loss: 0.0014\n",
      "Epoch 79/100\n",
      "\u001b[1m3/3\u001b[0m \u001b[32m━━━━━━━━━━━━━━━━━━━━\u001b[0m\u001b[37m\u001b[0m \u001b[1m0s\u001b[0m 15ms/step - loss: 0.0010 - val_loss: 0.0014\n",
      "Epoch 80/100\n",
      "\u001b[1m3/3\u001b[0m \u001b[32m━━━━━━━━━━━━━━━━━━━━\u001b[0m\u001b[37m\u001b[0m \u001b[1m0s\u001b[0m 15ms/step - loss: 0.0010 - val_loss: 0.0014\n",
      "Epoch 81/100\n",
      "\u001b[1m3/3\u001b[0m \u001b[32m━━━━━━━━━━━━━━━━━━━━\u001b[0m\u001b[37m\u001b[0m \u001b[1m0s\u001b[0m 14ms/step - loss: 0.0010 - val_loss: 0.0014\n",
      "Epoch 82/100\n",
      "\u001b[1m3/3\u001b[0m \u001b[32m━━━━━━━━━━━━━━━━━━━━\u001b[0m\u001b[37m\u001b[0m \u001b[1m0s\u001b[0m 14ms/step - loss: 0.0010 - val_loss: 0.0013\n",
      "Epoch 83/100\n",
      "\u001b[1m3/3\u001b[0m \u001b[32m━━━━━━━━━━━━━━━━━━━━\u001b[0m\u001b[37m\u001b[0m \u001b[1m0s\u001b[0m 14ms/step - loss: 9.9151e-04 - val_loss: 0.0013\n",
      "Epoch 84/100\n",
      "\u001b[1m3/3\u001b[0m \u001b[32m━━━━━━━━━━━━━━━━━━━━\u001b[0m\u001b[37m\u001b[0m \u001b[1m0s\u001b[0m 15ms/step - loss: 9.7003e-04 - val_loss: 0.0013\n",
      "Epoch 85/100\n",
      "\u001b[1m3/3\u001b[0m \u001b[32m━━━━━━━━━━━━━━━━━━━━\u001b[0m\u001b[37m\u001b[0m \u001b[1m0s\u001b[0m 14ms/step - loss: 9.1837e-04 - val_loss: 0.0013\n",
      "Epoch 86/100\n",
      "\u001b[1m3/3\u001b[0m \u001b[32m━━━━━━━━━━━━━━━━━━━━\u001b[0m\u001b[37m\u001b[0m \u001b[1m0s\u001b[0m 14ms/step - loss: 9.4068e-04 - val_loss: 0.0013\n",
      "Epoch 87/100\n",
      "\u001b[1m3/3\u001b[0m \u001b[32m━━━━━━━━━━━━━━━━━━━━\u001b[0m\u001b[37m\u001b[0m \u001b[1m0s\u001b[0m 14ms/step - loss: 9.9701e-04 - val_loss: 0.0013\n",
      "Epoch 88/100\n",
      "\u001b[1m3/3\u001b[0m \u001b[32m━━━━━━━━━━━━━━━━━━━━\u001b[0m\u001b[37m\u001b[0m \u001b[1m0s\u001b[0m 14ms/step - loss: 9.3703e-04 - val_loss: 0.0013\n",
      "Epoch 89/100\n",
      "\u001b[1m3/3\u001b[0m \u001b[32m━━━━━━━━━━━━━━━━━━━━\u001b[0m\u001b[37m\u001b[0m \u001b[1m0s\u001b[0m 15ms/step - loss: 9.9631e-04 - val_loss: 0.0012\n",
      "Epoch 90/100\n",
      "\u001b[1m3/3\u001b[0m \u001b[32m━━━━━━━━━━━━━━━━━━━━\u001b[0m\u001b[37m\u001b[0m \u001b[1m0s\u001b[0m 15ms/step - loss: 9.8235e-04 - val_loss: 0.0012\n",
      "Epoch 91/100\n",
      "\u001b[1m3/3\u001b[0m \u001b[32m━━━━━━━━━━━━━━━━━━━━\u001b[0m\u001b[37m\u001b[0m \u001b[1m0s\u001b[0m 15ms/step - loss: 9.9828e-04 - val_loss: 0.0012\n",
      "Epoch 92/100\n",
      "\u001b[1m3/3\u001b[0m \u001b[32m━━━━━━━━━━━━━━━━━━━━\u001b[0m\u001b[37m\u001b[0m \u001b[1m0s\u001b[0m 15ms/step - loss: 9.3588e-04 - val_loss: 0.0012\n",
      "Epoch 93/100\n",
      "\u001b[1m3/3\u001b[0m \u001b[32m━━━━━━━━━━━━━━━━━━━━\u001b[0m\u001b[37m\u001b[0m \u001b[1m0s\u001b[0m 15ms/step - loss: 0.0010 - val_loss: 0.0012\n",
      "Epoch 94/100\n",
      "\u001b[1m3/3\u001b[0m \u001b[32m━━━━━━━━━━━━━━━━━━━━\u001b[0m\u001b[37m\u001b[0m \u001b[1m0s\u001b[0m 14ms/step - loss: 8.7915e-04 - val_loss: 0.0012\n",
      "Epoch 95/100\n",
      "\u001b[1m3/3\u001b[0m \u001b[32m━━━━━━━━━━━━━━━━━━━━\u001b[0m\u001b[37m\u001b[0m \u001b[1m0s\u001b[0m 15ms/step - loss: 9.0657e-04 - val_loss: 0.0012\n",
      "Epoch 96/100\n",
      "\u001b[1m3/3\u001b[0m \u001b[32m━━━━━━━━━━━━━━━━━━━━\u001b[0m\u001b[37m\u001b[0m \u001b[1m0s\u001b[0m 15ms/step - loss: 9.7269e-04 - val_loss: 0.0012\n",
      "Epoch 97/100\n",
      "\u001b[1m3/3\u001b[0m \u001b[32m━━━━━━━━━━━━━━━━━━━━\u001b[0m\u001b[37m\u001b[0m \u001b[1m0s\u001b[0m 15ms/step - loss: 9.1899e-04 - val_loss: 0.0012\n",
      "Epoch 98/100\n",
      "\u001b[1m3/3\u001b[0m \u001b[32m━━━━━━━━━━━━━━━━━━━━\u001b[0m\u001b[37m\u001b[0m \u001b[1m0s\u001b[0m 15ms/step - loss: 8.4247e-04 - val_loss: 0.0012\n",
      "Epoch 99/100\n",
      "\u001b[1m3/3\u001b[0m \u001b[32m━━━━━━━━━━━━━━━━━━━━\u001b[0m\u001b[37m\u001b[0m \u001b[1m0s\u001b[0m 14ms/step - loss: 9.3105e-04 - val_loss: 0.0011\n",
      "Epoch 100/100\n",
      "\u001b[1m3/3\u001b[0m \u001b[32m━━━━━━━━━━━━━━━━━━━━\u001b[0m\u001b[37m\u001b[0m \u001b[1m0s\u001b[0m 15ms/step - loss: 9.0100e-04 - val_loss: 0.0011\n",
      "\u001b[1m1/1\u001b[0m \u001b[32m━━━━━━━━━━━━━━━━━━━━\u001b[0m\u001b[37m\u001b[0m \u001b[1m0s\u001b[0m 56ms/step\n",
      "------------------------------------\n",
      "Mean_Squared_Error is:      0.012218232632709098\n",
      "Mean_Absolute_Error is:     0.09653311113836864\n"
     ]
    }
   ],
   "source": [
    "import tensorflow as tf\n",
    "from tensorflow.keras import layers, Model\n",
    "from tensorflow.keras.optimizers import Adam\n",
    "\n",
    "X = data.drop(columns=[\"Corrosion rate\", \"DEA\", \"MEA\", \"PZ\"])\n",
    "y = data[\"Corrosion rate\"].values  # Ensure y is a NumPy array\n",
    "\n",
    "# Convert features and target to tensors\n",
    "X_train_PINN = tf.convert_to_tensor(X.values, dtype=tf.float32)\n",
    "y_train_PINN = tf.convert_to_tensor(y, dtype=tf.float32)\n",
    "\n",
    "# Define the PINN model\n",
    "class PINN_Model(Model):\n",
    "    def __init__(self, input_shape):\n",
    "        super(PINN_Model, self).__init__()\n",
    "        self.dense1 = layers.Dense(64, activation='relu')\n",
    "        self.dense2 = layers.Dense(64, activation='relu')\n",
    "        self.dense3 = layers.Dense(1)  # Output layer\n",
    "        \n",
    "    def call(self, X):\n",
    "        x = self.dense1(X)\n",
    "        x = self.dense2(x)\n",
    "        return self.dense3(x)\n",
    "\n",
    "# Example physical equation: Fick's Law for diffusion (corrosion example)\n",
    "def physical_equation(model, X):\n",
    "    with tf.GradientTape() as tape:\n",
    "        tape.watch(X)\n",
    "        y_pred = model(X)  # Get model predictions\n",
    "    dy_dx = tape.gradient(y_pred, X)  # Compute the gradient\n",
    "    physics_residual = dy_dx + 0.1 * y_pred  # Example differential equation\n",
    "    return physics_residual\n",
    "\n",
    "# Custom loss function combining data and physics\n",
    "def pinn_loss(y_true, y_pred, model, X):\n",
    "    data_loss = tf.reduce_mean(tf.square(y_true - y_pred))  # Mean Squared Error\n",
    "    physics_loss = tf.reduce_mean(tf.square(physical_equation(model, X)))\n",
    "    return data_loss + physics_loss\n",
    "\n",
    "# Initialize PINN model\n",
    "pinn_model = PINN_Model(input_shape=X_train_PINN.shape[1])\n",
    "\n",
    "# Compile the model with custom loss\n",
    "pinn_model.compile(optimizer=Adam(learning_rate=0.01), \n",
    "                   loss=lambda y_true, y_pred: pinn_loss(y_true, y_pred, pinn_model, X_train_PINN))\n",
    "\n",
    "# Train the model\n",
    "history = pinn_model.fit(X_train_PINN, y_train_PINN, epochs=100, verbose=1, \n",
    "                         validation_split=0.2)\n",
    "\n",
    "# Evaluate the model\n",
    "y_pred = pinn_model.predict(X_test)\n",
    "\n",
    "MSE = mean_squared_error(y_test,y_pred)\n",
    "MAE = mean_absolute_error(y_test,y_pred)\n",
    "print(\"------------------------------------\")\n",
    "print(f\"Mean_Squared_Error is:      {MSE}\\nMean_Absolute_Error is:     {MAE}\")"
   ]
  },
  {
   "cell_type": "markdown",
   "id": "d9721e1b",
   "metadata": {
    "papermill": {
     "duration": 0.030497,
     "end_time": "2024-09-25T08:04:21.044619",
     "exception": false,
     "start_time": "2024-09-25T08:04:21.014122",
     "status": "completed"
    },
    "tags": []
   },
   "source": [
    "### Hyperparameter Tuning with Grid Search"
   ]
  },
  {
   "cell_type": "code",
   "execution_count": 15,
   "id": "b3683174",
   "metadata": {
    "execution": {
     "iopub.execute_input": "2024-09-25T08:04:21.107257Z",
     "iopub.status.busy": "2024-09-25T08:04:21.106566Z",
     "iopub.status.idle": "2024-09-25T08:04:38.485358Z",
     "shell.execute_reply": "2024-09-25T08:04:38.483555Z"
    },
    "papermill": {
     "duration": 17.413201,
     "end_time": "2024-09-25T08:04:38.488244",
     "exception": false,
     "start_time": "2024-09-25T08:04:21.075043",
     "status": "completed"
    },
    "tags": []
   },
   "outputs": [
    {
     "name": "stdout",
     "output_type": "stream",
     "text": [
      "Best parameters:  {'activation': 'relu', 'alpha': 0.01, 'hidden_layer_sizes': (8,), 'learning_rate_init': 0.001, 'max_iter': 500, 'solver': 'lbfgs'}\n"
     ]
    }
   ],
   "source": [
    "param_grid = {\n",
    "    'hidden_layer_sizes': [(12,), (10,), (8,)],\n",
    "    'activation': ['tanh', 'relu'], \n",
    "    'solver': ['lbfgs', 'adam'],  \n",
    "    'learning_rate_init': [0.001, 0.01, 0.1],  \n",
    "    'alpha': [0.0001, 0.001, 0.01],  # Regularization \n",
    "    'max_iter': [500, 1000] \n",
    "}\n",
    "\n",
    "# Initialize MLPRegressor model\n",
    "MLP = MLPRegressor(random_state=42)\n",
    "\n",
    "# Perform grid search with 5-fold cross-validation\n",
    "grid_search = GridSearchCV(MLP, param_grid, cv=5, n_jobs=-1)  \n",
    "grid_search.fit(X_train, y_train)\n",
    "\n",
    "# Print the best parameters found by grid search\n",
    "print(\"Best parameters: \", grid_search.best_params_)"
   ]
  },
  {
   "cell_type": "markdown",
   "id": "7e0a3622",
   "metadata": {
    "papermill": {
     "duration": 0.030099,
     "end_time": "2024-09-25T08:04:38.549368",
     "exception": false,
     "start_time": "2024-09-25T08:04:38.519269",
     "status": "completed"
    },
    "tags": []
   },
   "source": [
    "## Artificial Neural Networks (ANNs)"
   ]
  },
  {
   "cell_type": "code",
   "execution_count": 16,
   "id": "8e7c656c",
   "metadata": {
    "execution": {
     "iopub.execute_input": "2024-09-25T08:04:38.612899Z",
     "iopub.status.busy": "2024-09-25T08:04:38.612472Z",
     "iopub.status.idle": "2024-09-25T08:04:38.658043Z",
     "shell.execute_reply": "2024-09-25T08:04:38.656459Z"
    },
    "papermill": {
     "duration": 0.080163,
     "end_time": "2024-09-25T08:04:38.660732",
     "exception": false,
     "start_time": "2024-09-25T08:04:38.580569",
     "status": "completed"
    },
    "tags": []
   },
   "outputs": [
    {
     "name": "stdout",
     "output_type": "stream",
     "text": [
      "The score for train Model: 0.9840556017385297\n",
      "The score for test Model: 0.9757235632574235\n"
     ]
    }
   ],
   "source": [
    "### Applying the Optimized Neural Network Model\n",
    "NNModel = MLPRegressor(hidden_layer_sizes=(8,), activation='relu',alpha=0.01,learning_rate_init=0.001, solver='lbfgs', max_iter=500,random_state=42)\n",
    "NNModel.fit(X_train,y_train)\n",
    "print(f\"The score for train Model: {NNModel.score(X_train,y_train)}\")\n",
    "print(f\"The score for test Model: {NNModel.score(X_test,y_test)}\")"
   ]
  },
  {
   "cell_type": "code",
   "execution_count": 17,
   "id": "67da8b63",
   "metadata": {
    "execution": {
     "iopub.execute_input": "2024-09-25T08:04:38.725948Z",
     "iopub.status.busy": "2024-09-25T08:04:38.724870Z",
     "iopub.status.idle": "2024-09-25T08:04:38.743045Z",
     "shell.execute_reply": "2024-09-25T08:04:38.741160Z"
    },
    "papermill": {
     "duration": 0.053986,
     "end_time": "2024-09-25T08:04:38.745633",
     "exception": false,
     "start_time": "2024-09-25T08:04:38.691647",
     "status": "completed"
    },
    "tags": []
   },
   "outputs": [
    {
     "name": "stdout",
     "output_type": "stream",
     "text": [
      "Mean_Squared_Error is:      3.799391824542514e-05\n",
      "Mean_Absolute_Error is:     0.004361953978267779\n",
      "Training Data:\n",
      "Mean: 6.511214518296404\n",
      "Standard Deviation: 5.778260469145289\n",
      "Minimum: 0.0034612036807925273\n",
      "Maximum: 26.263134616253925\n",
      "Square Error (MSE): 75.78420855256101\n",
      "______________________________________\n",
      "\n",
      "Testing Data:\n",
      "Mean: 6.3477927779187935\n",
      "Standard Deviation: 6.0625651061431896\n",
      "Minimum: 0.5107429888031486\n",
      "Maximum: 18.676641738855945\n",
      "Square Error (MSE): 77.04916881762297\n"
     ]
    }
   ],
   "source": [
    "## Predictions and Evaluation Metrics\n",
    "\n",
    "y_pred_train = NNModel.predict(X_train)\n",
    "y_pred_test = NNModel.predict(X_test)\n",
    "MSE = mean_squared_error(y_test,y_pred_test)\n",
    "MAE = mean_absolute_error(y_test,y_pred_test)\n",
    "print(f\"Mean_Squared_Error is:      {MSE}\\nMean_Absolute_Error is:     {MAE}\")\n",
    "mard_training = calculate_mard(y_train,y_pred_train)\n",
    "mard_testing = calculate_mard(y_test,y_pred_test)\n",
    "    \n",
    "# Calculate statistics for Training data\n",
    "mean_train, std_dev_train, min_train, max_train, square_error_train = calculate_mard_statistics(mard_training)\n",
    "\n",
    "# Calculate statistics for Testing data\n",
    "mean_test, std_dev_test, min_test, max_test, square_error_test = calculate_mard_statistics(mard_testing)\n",
    "\n",
    "# Output the results for Training data\n",
    "print(f\"Training Data:\\nMean: {mean_train}\\nStandard Deviation: {std_dev_train}\\nMinimum: {min_train}\\nMaximum: {max_train}\")\n",
    "print(f\"Square Error (MSE): {square_error_train}\")\n",
    "print(\"______________________________________\")\n",
    "# Output the results for Testing data\n",
    "print(f\"\\nTesting Data:\\nMean: {mean_test}\\nStandard Deviation: {std_dev_test}\\nMinimum: {min_test}\\nMaximum: {max_test}\")\n",
    "print(f\"Square Error (MSE): {square_error_test}\")"
   ]
  },
  {
   "cell_type": "code",
   "execution_count": 18,
   "id": "4fbbae5f",
   "metadata": {
    "execution": {
     "iopub.execute_input": "2024-09-25T08:04:38.810327Z",
     "iopub.status.busy": "2024-09-25T08:04:38.809770Z",
     "iopub.status.idle": "2024-09-25T08:04:52.323835Z",
     "shell.execute_reply": "2024-09-25T08:04:52.322536Z"
    },
    "papermill": {
     "duration": 13.549141,
     "end_time": "2024-09-25T08:04:52.326515",
     "exception": false,
     "start_time": "2024-09-25T08:04:38.777374",
     "status": "completed"
    },
    "tags": []
   },
   "outputs": [
    {
     "name": "stdout",
     "output_type": "stream",
     "text": [
      "{'C': 1, 'degree': 2, 'epsilon': 0.001, 'kernel': 'rbf'}\n"
     ]
    }
   ],
   "source": [
    "##Hyperparameter Tuning with Grid Search\n",
    "param_grid = {\n",
    "    'C': [0.1, 1, 10, 100],\n",
    "    'epsilon': [0.001, 0.1, 1],\n",
    "    'kernel': ['linear', 'rbf', 'poly'],\n",
    "    'degree': [2, 3, 4] }\n",
    "\n",
    "grid_search = GridSearchCV(SVR(), param_grid, cv=5)\n",
    "grid_search.fit(X_train, y_train)\n",
    "print(grid_search.best_params_)"
   ]
  },
  {
   "cell_type": "markdown",
   "id": "2180cc19",
   "metadata": {
    "papermill": {
     "duration": 0.030471,
     "end_time": "2024-09-25T08:04:52.387843",
     "exception": false,
     "start_time": "2024-09-25T08:04:52.357372",
     "status": "completed"
    },
    "tags": []
   },
   "source": [
    "## Support Vector Regression (SVR) Model"
   ]
  },
  {
   "cell_type": "code",
   "execution_count": 19,
   "id": "4c49586e",
   "metadata": {
    "execution": {
     "iopub.execute_input": "2024-09-25T08:04:52.452082Z",
     "iopub.status.busy": "2024-09-25T08:04:52.451642Z",
     "iopub.status.idle": "2024-09-25T08:04:52.462320Z",
     "shell.execute_reply": "2024-09-25T08:04:52.461053Z"
    },
    "papermill": {
     "duration": 0.045368,
     "end_time": "2024-09-25T08:04:52.464669",
     "exception": false,
     "start_time": "2024-09-25T08:04:52.419301",
     "status": "completed"
    },
    "tags": []
   },
   "outputs": [
    {
     "name": "stdout",
     "output_type": "stream",
     "text": [
      "The score for train Model: 0.968084709694725\n",
      "The score for test Model: 0.9478245854399212\n"
     ]
    }
   ],
   "source": [
    "## Support Vector Regression (SVR) Model Training and Evaluation\n",
    "SVRModel = SVR(kernel='rbf', C=1,degree=2, epsilon=.01)\n",
    "SVRModel.fit(X_train,y_train)\n",
    "print(f\"The score for train Model: {SVRModel.score(X_train,y_train)}\")\n",
    "print(f\"The score for test Model: {SVRModel.score(X_test,y_test)}\")"
   ]
  },
  {
   "cell_type": "code",
   "execution_count": 20,
   "id": "236d8c46",
   "metadata": {
    "execution": {
     "iopub.execute_input": "2024-09-25T08:04:52.528362Z",
     "iopub.status.busy": "2024-09-25T08:04:52.527916Z",
     "iopub.status.idle": "2024-09-25T08:04:52.543131Z",
     "shell.execute_reply": "2024-09-25T08:04:52.541921Z"
    },
    "papermill": {
     "duration": 0.050218,
     "end_time": "2024-09-25T08:04:52.545591",
     "exception": false,
     "start_time": "2024-09-25T08:04:52.495373",
     "status": "completed"
    },
    "tags": []
   },
   "outputs": [
    {
     "name": "stdout",
     "output_type": "stream",
     "text": [
      "Mean_Squared_Error is:      8.16573064752998e-05\n",
      "Mean_Absolute_Error is:     0.00781777728670959\n",
      "Training Data:\n",
      "Mean: 14.91058301706856\n",
      "Standard Deviation: 17.06332056800041\n",
      "Minimum: 0.14428781568121077\n",
      "Maximum: 62.926400959588136\n",
      "Square Error (MSE): 513.4823947152393\n",
      "Mean_Absolute_Relative_Deviation (MARD): 14.910583017068562\n",
      "______________________________________\n",
      "\n",
      "Testing Data:\n",
      "Mean: 13.889261475451812\n",
      "Standard Deviation: 12.607705127753862\n",
      "Minimum: 1.756890209316753\n",
      "Maximum: 47.17846818255458\n",
      "Square Error (MSE): 351.8658129218609\n",
      "Mean_Absolute_Relative_Deviation (MARD): 13.88926147545181\n"
     ]
    }
   ],
   "source": [
    "## Predictions and MARD for SVR Model\n",
    "y_pred_train = SVRModel.predict(X_train)\n",
    "y_pred_test = SVRModel.predict(X_test)\n",
    "MSE = mean_squared_error(y_test,y_pred_test)\n",
    "MAE = mean_absolute_error(y_test,y_pred_test)\n",
    "print(f\"Mean_Squared_Error is:      {MSE}\\nMean_Absolute_Error is:     {MAE}\")\n",
    "mard_training = calculate_mard(y_train,y_pred_train)\n",
    "mard_testing = calculate_mard(y_test,y_pred_test)\n",
    "    \n",
    "# Calculate statistics for Training data\n",
    "mean_train, std_dev_train, min_train, max_train, square_error_train = calculate_mard_statistics(mard_training)\n",
    "\n",
    "# Calculate statistics for Testing data\n",
    "mean_test, std_dev_test, min_test, max_test, square_error_test = calculate_mard_statistics(mard_testing)\n",
    "\n",
    "# Output the results for Training data\n",
    "print(f\"Training Data:\\nMean: {mean_train}\\nStandard Deviation: {std_dev_train}\\nMinimum: {min_train}\\nMaximum: {max_train}\")\n",
    "print(f\"Square Error (MSE): {square_error_train}\")\n",
    "MARD = np.mean(np.abs((y_train - y_pred_train) / y_train)) * 100 \n",
    "print(f\"Mean_Absolute_Relative_Deviation (MARD): {MARD}\") \n",
    "print(\"______________________________________\")\n",
    "# Output the results for Testing data\n",
    "print(f\"\\nTesting Data:\\nMean: {mean_test}\\nStandard Deviation: {std_dev_test}\\nMinimum: {min_test}\\nMaximum: {max_test}\")\n",
    "print(f\"Square Error (MSE): {square_error_test}\")\n",
    "MARD = np.mean(np.abs((y_test - y_pred_test) / y_test)) * 100  \n",
    "print(f\"Mean_Absolute_Relative_Deviation (MARD): {MARD}\")   "
   ]
  },
  {
   "cell_type": "markdown",
   "id": "d23629f7",
   "metadata": {
    "papermill": {
     "duration": 0.031296,
     "end_time": "2024-09-25T08:04:52.607686",
     "exception": false,
     "start_time": "2024-09-25T08:04:52.576390",
     "status": "completed"
    },
    "tags": []
   },
   "source": [
    "## Mechanistic Model "
   ]
  },
  {
   "cell_type": "code",
   "execution_count": 21,
   "id": "2ead80e0",
   "metadata": {
    "execution": {
     "iopub.execute_input": "2024-09-25T08:04:52.671241Z",
     "iopub.status.busy": "2024-09-25T08:04:52.670175Z",
     "iopub.status.idle": "2024-09-25T08:04:52.679120Z",
     "shell.execute_reply": "2024-09-25T08:04:52.677961Z"
    },
    "papermill": {
     "duration": 0.043191,
     "end_time": "2024-09-25T08:04:52.681494",
     "exception": false,
     "start_time": "2024-09-25T08:04:52.638303",
     "status": "completed"
    },
    "tags": []
   },
   "outputs": [
    {
     "name": "stdout",
     "output_type": "stream",
     "text": [
      "Mean_Squared_Error is:      1.6474360968325426\n",
      "Mean_Absolute_Error is:     1.0757893828282323\n"
     ]
    }
   ],
   "source": [
    "## Mechanistic Model and Evaluation\n",
    "def mechanistic_model(X, params):\n",
    "    # Simple example using a linear model\n",
    "    return np.dot(X, params)\n",
    "\n",
    "# Parameters for the mechanistic model\n",
    "params = np.random.rand(X_train.shape[1])\n",
    "y_pred_mech = mechanistic_model(X_test, params)\n",
    "\n",
    "# Evaluate\n",
    "\n",
    "MSE = mean_squared_error(y_test,y_pred_mech)\n",
    "MAE = mean_absolute_error(y_test,y_pred_mech)\n",
    "print(f\"Mean_Squared_Error is:      {MSE}\\nMean_Absolute_Error is:     {MAE}\")"
   ]
  },
  {
   "cell_type": "markdown",
   "id": "a1dccdec",
   "metadata": {
    "papermill": {
     "duration": 0.030734,
     "end_time": "2024-09-25T08:04:52.743313",
     "exception": false,
     "start_time": "2024-09-25T08:04:52.712579",
     "status": "completed"
    },
    "tags": []
   },
   "source": [
    "## Combining ANN and Mechanistic Model"
   ]
  },
  {
   "cell_type": "code",
   "execution_count": 22,
   "id": "2dd57910",
   "metadata": {
    "execution": {
     "iopub.execute_input": "2024-09-25T08:04:52.808257Z",
     "iopub.status.busy": "2024-09-25T08:04:52.807519Z",
     "iopub.status.idle": "2024-09-25T08:04:52.815885Z",
     "shell.execute_reply": "2024-09-25T08:04:52.814887Z"
    },
    "papermill": {
     "duration": 0.042898,
     "end_time": "2024-09-25T08:04:52.818272",
     "exception": false,
     "start_time": "2024-09-25T08:04:52.775374",
     "status": "completed"
    },
    "tags": []
   },
   "outputs": [
    {
     "name": "stdout",
     "output_type": "stream",
     "text": [
      "Mean_Squared_Error is:      0.4126771739368156\n",
      "Mean_Absolute_Error is:     0.5384916955657231\n"
     ]
    }
   ],
   "source": [
    "# Combine ANN and Mechanistic Model\n",
    "\n",
    "# Get predictions from the mechanistic model\n",
    "y_mech = mechanistic_model(X_test, params)\n",
    "\n",
    "# Get predictions from the ANN\n",
    "y_ann = NNModel.predict(X_test).flatten()\n",
    "\n",
    "# Combine predictions\n",
    "combined_predictions = (y_ann + y_mech) / 2  # Simple averaging\n",
    "\n",
    "# Evaluate combined model\n",
    "MSE = mean_squared_error(y_test,combined_predictions)\n",
    "MAE = mean_absolute_error(y_test,combined_predictions)\n",
    "print(f\"Mean_Squared_Error is:      {MSE}\\nMean_Absolute_Error is:     {MAE}\")"
   ]
  }
 ],
 "metadata": {
  "kaggle": {
   "accelerator": "none",
   "dataSources": [
    {
     "datasetId": 5742902,
     "sourceId": 9448706,
     "sourceType": "datasetVersion"
    }
   ],
   "dockerImageVersionId": 30775,
   "isGpuEnabled": false,
   "isInternetEnabled": true,
   "language": "python",
   "sourceType": "notebook"
  },
  "kernelspec": {
   "display_name": "Python 3",
   "language": "python",
   "name": "python3"
  },
  "language_info": {
   "codemirror_mode": {
    "name": "ipython",
    "version": 3
   },
   "file_extension": ".py",
   "mimetype": "text/x-python",
   "name": "python",
   "nbconvert_exporter": "python",
   "pygments_lexer": "ipython3",
   "version": "3.10.14"
  },
  "papermill": {
   "default_parameters": {},
   "duration": 63.394742,
   "end_time": "2024-09-25T08:04:55.470170",
   "environment_variables": {},
   "exception": null,
   "input_path": "__notebook__.ipynb",
   "output_path": "__notebook__.ipynb",
   "parameters": {},
   "start_time": "2024-09-25T08:03:52.075428",
   "version": "2.6.0"
  }
 },
 "nbformat": 4,
 "nbformat_minor": 5
}
